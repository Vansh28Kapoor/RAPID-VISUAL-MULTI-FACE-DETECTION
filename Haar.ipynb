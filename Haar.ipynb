{
 "cells": [
  {
   "cell_type": "markdown",
   "id": "edc1f400-85ea-49d9-b940-ec85817c2c5d",
   "metadata": {
    "tags": []
   },
   "source": [
    "# EE 769 Project\n",
    "## HAAR Feature-based Adaboost Cascade Classifier for Face Detection\n",
    "### Sankalp Bhamare, Vansh Kapoor, and Ankur Verma"
   ]
  },
  {
   "cell_type": "code",
   "execution_count": 3,
   "id": "22f72ef0-0d69-4afb-93f3-85de41772f9e",
   "metadata": {
    "tags": []
   },
   "outputs": [],
   "source": [
    "import os\n",
    "\n",
    "import cv2\n",
    "import numpy as np\n",
    "from matplotlib import pyplot as plt\n",
    "import sklearn\n",
    "from sklearn.linear_model import Perceptron, RidgeClassifier\n",
    "from skimage.filters import unsharp_mask\n",
    "import tqdm\n",
    "from matplotlib import pyplot as plt"
   ]
  },
  {
   "cell_type": "markdown",
   "id": "4b5215d5-376b-436a-9796-c7da9396f608",
   "metadata": {
    "tags": []
   },
   "source": [
    "## Constants"
   ]
  },
  {
   "cell_type": "code",
   "execution_count": 4,
   "id": "d2739c00-d573-42a9-a5a0-5b3b26b6e4bb",
   "metadata": {
    "tags": []
   },
   "outputs": [],
   "source": [
    "FACE_SIZE = 19 # size of the face detection kernel"
   ]
  },
  {
   "cell_type": "markdown",
   "id": "b79e8a3f-6b74-4eb7-8bc9-462d3b8cccea",
   "metadata": {
    "tags": []
   },
   "source": [
    "## Integral Image\n",
    "This is a form of image representation in which each pixel contains the value of integration of rectangle from the top left corner to the current pixel.\n",
    "Storing information in this way allows the rapid computation of integrals, as shown in the function `get_rect(intg_img, si, sj, ei, ej)`, \n",
    "\n",
    "Where `result = intg_img[ei+1, ej+1] - intg_img[si, ej+1] - intg_img[ei+1, sj] + intg_img[si, sj]`\n",
    "\n",
    "> Inorder to speed up computation, the function call is avoided and directly the elements are accessed and integrals are computed in O(1) time\n"
   ]
  },
  {
   "cell_type": "code",
   "execution_count": 5,
   "id": "b8204a0f-d6f0-43ed-824d-b50c67f94bea",
   "metadata": {
    "tags": []
   },
   "outputs": [],
   "source": [
    "def compute_intg_image(img):\n",
    "    \"\"\"\n",
    "    Computes matrix for quick computation of integrals.\n",
    "    \"\"\"\n",
    "    # Create a matrix of zeros with the same dimensions as the input image\n",
    "    intg_img = np.zeros((img.shape[0]+1, img.shape[1]+1) , dtype=np.int64)\n",
    "    \n",
    "    # Iterate over each pixel in the input image\n",
    "    for i in range(img.shape[0]):\n",
    "        for j in range(img.shape[1]):\n",
    "            # Calculate the sum of all pixels above and to the left of the current pixel\n",
    "            intg_img[i+1, j+1] = intg_img[i, j+1] + intg_img[i+1, j] - intg_img[i, j] + img[i, j]\n",
    "\n",
    "    # Return the computed integral image\n",
    "    return intg_img\n",
    "\n",
    "def get_rect(intg_img, si, sj, ei, ej):\n",
    "    \"\"\"\n",
    "    Computes integral in rect by top left corner to bottom right\n",
    "    \"\"\"\n",
    "    # Calculate the sum of all pixels within the specified rectangular region\n",
    "    result = intg_img[ei+1, ej+1] - intg_img[si, ej+1] - intg_img[ei+1, sj] + intg_img[si, sj]\n",
    "    \n",
    "    # Return the computed sum of pixels\n",
    "    return result"
   ]
  },
  {
   "cell_type": "markdown",
   "id": "b5c7ab17-a528-4f68-91b9-e9bd2a44092a",
   "metadata": {
    "tags": []
   },
   "source": [
    "## Haar Features\n",
    "Haar filters are a type of feature used in object detection, particularly in face detection. They are simple rectangular filters that can be applied to an image to extract certain features.\n",
    "\n",
    "Haar filters work by computing the difference in average intensity between adjacent regions in the image. This is done by computing the integral image of the original image and then applying the filter to it. Haar filters come in different shapes and sizes and are applied at different scales to capture features at different levels of detail.\n"
   ]
  },
  {
   "cell_type": "markdown",
   "id": "075c8ceb-a2f8-47ed-9975-cc3dd979b99f",
   "metadata": {
    "tags": []
   },
   "source": [
    "### Types of HAAR Features"
   ]
  },
  {
   "cell_type": "markdown",
   "id": "170d4346-ab55-4dcc-8449-1240ab73b632",
   "metadata": {
    "jp-MarkdownHeadingCollapsed": true,
    "tags": []
   },
   "source": [
    "#### Type 1\n",
    "Used for detecting the region between eyes (darker) and cheeks (lighter).\n",
    "\n",
    "![filters/t11_haar.png](filters/t11_haar.png)\n",
    "\n",
    "#### Type 2\n",
    "Used for detecting the region between cheeks (lighter) and nose (darker).\n",
    "\n",
    "![filters/t22_haar.png](filters/t22_haar.png)\n",
    "\n",
    "#### Type 3\n",
    "Used for detecting the nose (darker) with cheeks (lighter) on both the sides.\n",
    "\n",
    "![filters/t33_haar.png](filters/t33_haar.png)\n",
    "\n",
    "#### Type 4\n",
    "Used for detecting eyebrows (darker) with skin (lighter) on both the sides.\n",
    "\n",
    "![filters/t44_haar.png](filters/t44_haar.png)"
   ]
  },
  {
   "cell_type": "markdown",
   "id": "57a2174f-7c61-47b6-bd87-8bf38ffa843b",
   "metadata": {
    "tags": []
   },
   "source": [
    "### Implementation of HAAR features\n",
    "\n",
    "The haar features shown above are simple kernel which are applied across the image, to improve performance integral image representation is used wherein all the rectangle integral (conv. over image) can be computed directly using 4 memory access.\n",
    "\n",
    "The code here implements the method for computation of haar filters and their generation."
   ]
  },
  {
   "cell_type": "code",
   "execution_count": 6,
   "id": "85e2a20a-9a53-4987-b710-1540d149eec3",
   "metadata": {
    "tags": []
   },
   "outputs": [],
   "source": [
    "def generate_features_from_filter(h, w, filt_type):\n",
    "    \"\"\"\n",
    "    Generates all possible position for a haar filter of a given size.\n",
    "    \"\"\"\n",
    "    gen_features = []\n",
    "    # Iterate over all possible starting positions for the filter in the image\n",
    "    for i in range(FACE_SIZE-h+1):\n",
    "        for j in range(FACE_SIZE-w+1):\n",
    "            # Append the feature parameters (height, width, filter type, starting row, starting column)\n",
    "            gen_features.append((h,w, filt_type, i, j))\n",
    "    return gen_features\n",
    "\n",
    "def generate_haar_filters():\n",
    "    \"\"\"\n",
    "    Generates all possible haar filter features.\n",
    "    \"\"\"\n",
    "    # Initialize an empty list to hold all generated Haar features\n",
    "    haar_features= []\n",
    "    # Iterate over all possible filter heights and widths\n",
    "    for i in range(1, FACE_SIZE+1):\n",
    "        for j in range(1, FACE_SIZE+1):\n",
    "            # Append all possible features that can be generated from this filter type, height, and width\n",
    "    \n",
    "            # Check if the filter width is even\n",
    "            if i % 2 == 0:\n",
    "                filter_type = 0 # Set the filter type to horizontal\n",
    "                haar_features += generate_features_from_filter(i, j, filter_type)\n",
    "\n",
    "            # Check if the filter height is even\n",
    "            if j % 2 == 0:\n",
    "                filter_type = 1 # Set the filter type to vertical\n",
    "                haar_features += generate_features_from_filter(i, j, filter_type)\n",
    "    \n",
    "            # Check if the filter width is a multiple of 3\n",
    "            if j % 3 == 0:\n",
    "                filter_type = 2 # Set the filter type to vertical\n",
    "                haar_features += generate_features_from_filter(i, j, filter_type)\n",
    "    \n",
    "            # Check if the filter height is a multiple of 3\n",
    "            if i % 3 == 0:\n",
    "                filter_type = 3 # Set the filter type to horizontal\n",
    "                haar_features += generate_features_from_filter(i, j, filter_type)\n",
    "\n",
    "    return haar_features\n",
    "\n",
    "def compute_haar_feature(intg_img, haar_feature):\n",
    "    \"\"\"\n",
    "    Compute a haar feature over the intgeral image.\n",
    "    \"\"\"\n",
    "    # extract the parameters of the haar_feature tuple\n",
    "    h, w, filt_type, i, j = haar_feature\n",
    "    result = 0\n",
    "\n",
    "    # compute the haar feature value based on the filter type\n",
    "    if filt_type == 0:\n",
    "        result = 2 * ( intg_img[i+h, j+w] - 2*intg_img[i+h//2, j+w] - intg_img[i+h, j] + 2*intg_img[i+h//2, j] + intg_img[i, j+w] - intg_img[i, j]) / (h*w)\n",
    "    elif filt_type == 1:\n",
    "        result = 2*(2*intg_img[h + i, j + w//2] - intg_img[h + i, j + w] - intg_img[h + i, j] - 2*intg_img[i, j + w//2] + intg_img[i, j + w] + intg_img[i, j]) / (h*w)\n",
    "    elif filt_type == 2:\n",
    "        result = (3*intg_img[h + i, j + 2*w//3] - 3*intg_img[h + i, j + w//3] - intg_img[h + i, j + w] + intg_img[h + i, j] - 3*intg_img[i, j + 2*w//3] + 3*intg_img[i, j + w//3] + intg_img[i, j + w] - intg_img[i, j]) / (h*w) * 1.5\n",
    "    elif filt_type == 3:\n",
    "        result = (-intg_img[h + i, j + w] + intg_img[h + i, j] + 3*intg_img[h//3 + i, j + w] - 3*intg_img[h//3 + i, j] - intg_img[i + 2*h//3, j + w] + intg_img[i + 2*h//3, j] - intg_img[i, j + w] + intg_img[i, j])/(h*w)*1.5\n",
    "\n",
    "    return result\n",
    "\n",
    "\n",
    "def compute_haar_coef(intg_img, haar_filter_set):\n",
    "    \"\"\"\n",
    "    Compute and return features from a set of haar filter computed on a image.\n",
    "    \"\"\"\n",
    "    return list(np.hstack([compute_haar_feature(intg_img, filt) for filt in haar_filter_set]))\n"
   ]
  },
  {
   "cell_type": "markdown",
   "id": "250724c4-d907-4909-a84b-7d30d48c52d1",
   "metadata": {
    "tags": []
   },
   "source": [
    "## Loading Dataset\n",
    "The code below loads the ML dataset used for training the detector"
   ]
  },
  {
   "cell_type": "code",
   "execution_count": 7,
   "id": "16e8521c-8637-4b52-8747-419c48a9357d",
   "metadata": {
    "tags": []
   },
   "outputs": [],
   "source": [
    "def load_folder(folder):\n",
    "    \"\"\"\n",
    "    Load images from the dataset folder.\n",
    "    \"\"\"\n",
    "    imgs = []\n",
    "    for file in os.listdir(folder):\n",
    "        if \".pgm\" in file:\n",
    "            imgs.append(cv2.imread(folder+\"/\"+file,-1))\n",
    "    return imgs\n",
    "\n",
    "def load_data(folder):\n",
    "    \"\"\"\n",
    "    Load images and process them into training data format.\n",
    "    \"\"\"\n",
    "    train_x_true = load_folder(folder+\"/face\")\n",
    "    train_x_false = load_folder(folder+\"/non-face\")\n",
    "\n",
    "    train_y_true = [1] * len(train_x_true)\n",
    "    train_y_false = [0] * len(train_x_false)\n",
    "\n",
    "    train_x = train_x_true + train_x_false\n",
    "    train_y = train_y_true + train_y_false\n",
    "    train_x = [compute_intg_image(img) for img in train_x]\n",
    "    return train_x, train_y"
   ]
  },
  {
   "cell_type": "code",
   "execution_count": 8,
   "id": "b82a5995-2a0d-4484-9438-c3e43d2b4fa0",
   "metadata": {
    "tags": []
   },
   "outputs": [],
   "source": [
    "train_x, train_y = load_data(\"train\")\n",
    "test_x, test_y = load_data(\"test\")"
   ]
  },
  {
   "cell_type": "code",
   "execution_count": 26,
   "id": "f23818b5-6232-4ca5-a2f0-dfffadd27258",
   "metadata": {
    "tags": []
   },
   "outputs": [
    {
     "data": {
      "image/png": "[encoded data removed]",
      "text/plain": [
       "<Figure size 640x480 with 1 Axes>"
      ]
     },
     "metadata": {},
     "output_type": "display_data"
    },
    {
     "data": {
      "text/plain": [
       "<matplotlib.image.AxesImage at 0x1345af1f0>"
      ]
     },
     "execution_count": 26,
     "metadata": {},
     "output_type": "execute_result"
    },
    {
     "data": {
      "image/png": "[encoded data removed]",
      "text/plain": [
       "<Figure size 640x480 with 1 Axes>"
      ]
     },
     "metadata": {},
     "output_type": "display_data"
    }
   ],
   "source": [
    "plt.imshow(np.hstack(load_folder(\"train/face\")[:4]), cmap='gray')\n",
    "plt.show()\n",
    "plt.imshow(np.hstack(load_folder(\"train/non-face\")[:4]), cmap='gray')"
   ]
  },
  {
   "cell_type": "markdown",
   "id": "fb68d2b6-fd69-4a71-b2cd-bd24ce7eeafb",
   "metadata": {
    "tags": []
   },
   "source": [
    "## Adaboost\n",
    "In this detector we train a set of weak classifiers (ridge classifier) on a set of features and then ensemble them using the adaboost classifier.\n",
    "The algorithm works as follows:\n",
    "1. Continue iterations until limit, or no FP:\n",
    "2. In each iteration train the model on the weighted training data\n",
    "3. Recompute the weights based on performance of the model and keep repeating until 1.\n",
    "\n",
    "Once the iterations are done a strong classifier is formed which is ensemble of each of the weak classifiers trained during the iterations"
   ]
  },
  {
   "cell_type": "code",
   "execution_count": 10,
   "id": "68523c06-386e-45a7-8e48-dd3efe5afbc4",
   "metadata": {
    "tags": []
   },
   "outputs": [],
   "source": [
    "def Adaboost(train_x, train_y, d=1, T=100):\n",
    "    # Count number of positive and negative examples in the training set\n",
    "    face_count = 0\n",
    "    non_face_count = 0\n",
    "    for i, label in enumerate(train_y):\n",
    "        if label:\n",
    "            face_count += 1\n",
    "        else:\n",
    "            non_face_count += 1\n",
    "    # Print number of positive and negative examples\n",
    "    print(face_count, non_face_count)\n",
    "\n",
    "    # Initialize weights for each example in the training set\n",
    "    w = np.array([1/face_count if train_y[i] else 1/non_face_count for i in range(len(train_y))])\n",
    "\n",
    "    # Initialize lists to hold classifiers, feature selections, and betas\n",
    "    classifiers = []\n",
    "    feature_sel = []\n",
    "    betas = []\n",
    "    model_threshold = 0\n",
    "\n",
    "    # Define function to select features given a list of data and a list of selected feature indices\n",
    "    def select_features(x_data, x_sel):\n",
    "        return [np.hstack([x[f] for f in x_sel]) for x in x_data]\n",
    "\n",
    "    # Initialize predictions to be an array of zeros with the same shape as the training labels\n",
    "    predictions = np.zeros(train_y.shape)\n",
    "\n",
    "    # Iterate T times to create T classifiers\n",
    "    for t in range(T):\n",
    "        # Normalize weights to sum to 1\n",
    "        w = w / np.sum(w)\n",
    "\n",
    "        # Repeat until beta < 0.5 (i.e. the classifier performs better than random)\n",
    "        while True:\n",
    "            # Initialize a RidgeClassifier and randomly select d features from the training set\n",
    "            model = RidgeClassifier()\n",
    "            m_sel = np.random.permutation(len(train_x[0]))[:d]\n",
    "            m_train_x = select_features(train_x, m_sel)\n",
    "\n",
    "            # Fit the model to the training data with weights w\n",
    "            model.fit(m_train_x, train_y, sample_weight=w)\n",
    "\n",
    "            # Compute error for each example in the training set\n",
    "            e = np.abs(train_y - model.predict(m_train_x))\n",
    "\n",
    "            # Compute beta, the weighted error of the classifier\n",
    "            beta = np.sum(w * e)\n",
    "\n",
    "            # If the beta is less than 0.5, store the classifier, selected features, and beta\n",
    "            if beta < 0.5:\n",
    "                feature_sel.append(m_sel)\n",
    "                w = w * np.power(beta, 1-e)\n",
    "                classifiers.append(model)\n",
    "                betas.append(beta+1e-6)\n",
    "                break\n",
    "\n",
    "        # Compute alpha, the weight of the current classifier\n",
    "        alpha = -np.log(betas)\n",
    "\n",
    "        # Update predictions with the current classifier's predictions weighted by alpha\n",
    "        predictions = predictions + alpha[-1]*np.array(classifiers[-1].predict(select_features(train_x, feature_sel[-1])))\n",
    "\n",
    "        # Compute the model threshold as the minimum prediction value for positive examples\n",
    "        model_threshold = np.min(predictions[train_y==1])\n",
    "\n",
    "        # Compute the number of misclassified examples\n",
    "        miss_classification = np.sum((predictions >= model_threshold) != train_y)\n",
    "\n",
    "        # Print the current error rate\n",
    "        print(f'Training Error at round {t}: {miss_classification}')\n",
    "\n",
    "        # If there are no misclassified examples, stop iterating\n",
    "        if miss_classification == 0:\n",
    "            break\n",
    "\n",
    "    # Define a function to return the final model, which makes predictions based on the weighted sum of all T classifiers\n",
    "    def model(x):\n",
    "        preds = np.sum( np.array([c.predict(select_features(x, f_sel)) for c, f_sel in zip(classifiers, feature_sel)]) * alpha.reshape(-1,1), axis=0)\n",
    "        return preds >= model_threshold\n",
    "    return model\n",
    "    "
   ]
  },
  {
   "cell_type": "markdown",
   "id": "c6b41899-addf-4efb-8710-3fd28a6b9ed1",
   "metadata": {},
   "source": [
    "## Training the Cascade\n",
    "\n",
    "Now inorder, to further improve the performance and at the same time the accuracy, strong classifiers (trained using adaboost) are cascaded.\n",
    "\n",
    "How do they improve the performance?\n",
    "The earlier stages are trained using a smaller no. of features compared to the later stages, every feature rich models are tuned, the implied performance benefit is that as soon as a instance is classified as false, it is removed from the pipeline saving future computation of further futures thereby given significant performance gain"
   ]
  },
  {
   "cell_type": "code",
   "execution_count": 14,
   "id": "e492c69f-18be-4ca3-8c01-895b9ffd4406",
   "metadata": {
    "tags": []
   },
   "outputs": [],
   "source": [
    "haar_filters = generate_haar_filters()\n",
    "np.random.shuffle(haar_filters)"
   ]
  },
  {
   "cell_type": "code",
   "execution_count": 15,
   "id": "185adb16-b6a7-4563-9b03-686dc7d3b871",
   "metadata": {
    "tags": []
   },
   "outputs": [],
   "source": [
    "x = train_x\n",
    "y = np.array(train_y)"
   ]
  },
  {
   "cell_type": "code",
   "execution_count": 16,
   "id": "eb5c0bc6-c460-4252-adc9-7e52a6f258dc",
   "metadata": {
    "collapsed": true,
    "jupyter": {
     "outputs_hidden": true
    },
    "tags": []
   },
   "outputs": [
    {
     "name": "stdout",
     "output_type": "stream",
     "text": [
      "Stage: 2 - 600\n",
      "training start:\n",
      "2429 1850\n",
      "Training Error at round 0: 1850\n",
      "Training Error at round 1: 1850\n",
      "Training Error at round 2: 1850\n",
      "Training Error at round 3: 892\n",
      "Training Error at round 4: 892\n",
      "Training Error at round 5: 946\n",
      "Training Error at round 6: 685\n",
      "Training Error at round 7: 635\n",
      "Training Error at round 8: 521\n",
      "Training Error at round 9: 406\n",
      "Training Error at round 10: 509\n",
      "Training Error at round 11: 373\n",
      "Training Error at round 12: 432\n",
      "Training Error at round 13: 365\n",
      "Training Error at round 14: 390\n",
      "Training Error at round 15: 283\n",
      "Training Error at round 16: 340\n",
      "Training Error at round 17: 288\n",
      "Training Error at round 18: 329\n",
      "Training Error at round 19: 250\n",
      "Training Error at round 20: 258\n",
      "Training Error at round 21: 241\n",
      "Training Error at round 22: 254\n",
      "Training Error at round 23: 213\n",
      "Training Error at round 24: 184\n",
      "Training Error at round 25: 191\n",
      "Training Error at round 26: 192\n",
      "Training Error at round 27: 183\n",
      "Training Error at round 28: 145\n",
      "Training Error at round 29: 182\n",
      "Training Error at round 30: 148\n",
      "Training Error at round 31: 172\n",
      "Training Error at round 32: 167\n",
      "Training Error at round 33: 170\n",
      "Training Error at round 34: 138\n",
      "Training Error at round 35: 177\n",
      "Training Error at round 36: 169\n",
      "Training Error at round 37: 179\n",
      "Training Error at round 38: 173\n",
      "Training Error at round 39: 184\n",
      "Training Error at round 40: 146\n",
      "Training Error at round 41: 113\n",
      "Training Error at round 42: 127\n",
      "Training Error at round 43: 143\n",
      "Training Error at round 44: 140\n",
      "Training Error at round 45: 98\n",
      "Training Error at round 46: 132\n",
      "Training Error at round 47: 184\n",
      "Training Error at round 48: 137\n",
      "Training Error at round 49: 89\n",
      "Training Error at round 50: 117\n",
      "Training Error at round 51: 89\n",
      "Training Error at round 52: 127\n",
      "Training Error at round 53: 128\n",
      "Training Error at round 54: 108\n",
      "Training Error at round 55: 82\n",
      "Training Error at round 56: 111\n",
      "Training Error at round 57: 65\n",
      "Training Error at round 58: 100\n",
      "Training Error at round 59: 67\n",
      "Training Error at round 60: 88\n",
      "Training Error at round 61: 71\n",
      "Training Error at round 62: 80\n",
      "Training Error at round 63: 86\n",
      "Training Error at round 64: 77\n",
      "Training Error at round 65: 84\n",
      "Training Error at round 66: 70\n",
      "Training Error at round 67: 65\n",
      "Training Error at round 68: 63\n",
      "Training Error at round 69: 43\n",
      "Training Error at round 70: 60\n",
      "Training Error at round 71: 43\n",
      "Training Error at round 72: 66\n",
      "Training Error at round 73: 36\n",
      "Training Error at round 74: 56\n",
      "Training Error at round 75: 27\n",
      "Training Error at round 76: 57\n",
      "Training Error at round 77: 25\n",
      "Training Error at round 78: 50\n",
      "Training Error at round 79: 69\n",
      "Training Error at round 80: 52\n",
      "Training Error at round 81: 48\n",
      "Training Error at round 82: 47\n",
      "Training Error at round 83: 52\n",
      "Training Error at round 84: 37\n",
      "Training Error at round 85: 20\n",
      "Training Error at round 86: 33\n",
      "Training Error at round 87: 22\n",
      "Training Error at round 88: 26\n",
      "Training Error at round 89: 20\n",
      "Training Error at round 90: 10\n",
      "Training Error at round 91: 6\n",
      "Training Error at round 92: 4\n",
      "Training Error at round 93: 5\n",
      "Training Error at round 94: 0\n",
      "---------------\n",
      "done\n"
     ]
    }
   ],
   "source": [
    "cascade_models = [] # list to store the final cascade of models\n",
    "cascade_filter_prefix = [] # list to store the number of filters used in each stage\n",
    "\n",
    "filter_size = 200 # initial size of filters for the first stage\n",
    "stage_filters = [] # list to store filters for each stage\n",
    "feature_x = [[] for x in train_x] # list to store computed Haar features for each sample\n",
    "\n",
    "# loop until convergence (no FP)\n",
    "while True: \n",
    "    # Add filters to the current stage filter list\n",
    "    stage_filters += haar_filters[:filter_size] \n",
    "    print(f\"Stage: {len(cascade_models)+1} - {len(stage_filters)}\")\n",
    "    \n",
    "    # Compute Haar features for each sample using current set of filters\n",
    "    feature_x = [ feature_x[i]+compute_haar_coef(train_x[i], haar_filters[:filter_size]) for i in range(len(feature_x))] \n",
    "\n",
    "    print(\"training start:\")\n",
    "\n",
    "    # Train Adaboost model\n",
    "    model=Adaboost(feature_x, y, len(stage_filters)//10, 200) \n",
    "\n",
    "    print(\"---------------\")\n",
    "    \n",
    "    # Add trained model and no. of filter used to the cascade model list\n",
    "    cascade_models.append(model) \n",
    "    cascade_filter_prefix.append(len(stage_filters))\n",
    "    \n",
    "    \n",
    "    # Remove filters used in this stage from list of available filters\n",
    "    haar_filters = haar_filters[filter_size+1:] \n",
    "    \n",
    "    # Update filter size for next stag\n",
    "    filter_size = min(filter_size*2, len(haar_filters)) \n",
    "\n",
    "    # Predict labels for current set of features\n",
    "    y_pred = model(feature_x) \n",
    "\n",
    "    # Extract all positive marked (TP and FP) samples and use them to train the next cascade of classifier\n",
    "    pos_sample = np.argwhere(y_pred==True).flatten() # indices of positive samples\n",
    "\n",
    "    new_x = [x[i] for i in pos_sample]\n",
    "    new_y = [y[i] for i in pos_sample]\n",
    "    feature_x = [feature_x[i] for i in pos_sample]\n",
    "\n",
    "    # if all labels are correctly predicted, terminate\n",
    "    if( (y_pred==y).all() ): \n",
    "        break\n",
    "\n",
    "    # set new set of samples for next stage\n",
    "    x = new_x\n",
    "    y = np.array(new_y)\n",
    "    \n",
    "print(\"done\")\n"
   ]
  },
  {
   "cell_type": "code",
   "execution_count": 24,
   "id": "4c1c276d-232c-404f-aac1-c5a50075ac7d",
   "metadata": {
    "tags": []
   },
   "outputs": [
    {
     "name": "stdout",
     "output_type": "stream",
     "text": [
      "[<function Adaboost.<locals>.model at 0x1341e4550>, <function Adaboost.<locals>.model at 0x133e1beb0>]\n"
     ]
    }
   ],
   "source": [
    "print(cascade_models)"
   ]
  },
  {
   "cell_type": "code",
   "execution_count": 17,
   "id": "a58428c2-baa4-4c30-9520-97b1cdf0829d",
   "metadata": {
    "tags": []
   },
   "outputs": [],
   "source": [
    "def check_img(img):\n",
    "    # Compute the integral image\n",
    "    intg_img = compute_intg_image(img)\n",
    "    # Initialize some variables\n",
    "    filt_size = 100\n",
    "    t_filt = cascade_filter_prefix[0]\n",
    "    feature_x = []\n",
    "    p_filt = 0\n",
    "    # Loop over the cascade models\n",
    "    for i in range(len(cascade_models)):\n",
    "        # Select the filters for the current stage\n",
    "        s_f = stage_filters[p_filt:t_filt]\n",
    "        # If there are filters, compute the Haar features\n",
    "        if len(s_f) > 0:\n",
    "            feature_x += compute_haar_coef(intg_img, s_f)\n",
    "        # Update the filter index variables\n",
    "        p_filt = t_filt\n",
    "        if i+1 < len(cascade_filter_prefix):\n",
    "            t_filt = cascade_filter_prefix[i+1]\n",
    "        # Check if the image passes the current stage of the cascade model\n",
    "        if not(cascade_models[i]([feature_x])):\n",
    "            return False\n",
    "    # If the image passes all stages, return True\n",
    "    return True\n"
   ]
  },
  {
   "cell_type": "markdown",
   "id": "87c0e3b1-9407-4bad-ae36-b9a8d8ecb21d",
   "metadata": {
    "tags": []
   },
   "source": [
    "## Demo Code\n",
    "This code launches a live window with live web cam feed to continously run and display the detected faces by marking them using a bounding box."
   ]
  },
  {
   "cell_type": "code",
   "execution_count": null,
   "id": "dcbdc997-c8c7-4a49-b604-59fe6d9a1b19",
   "metadata": {
    "tags": []
   },
   "outputs": [],
   "source": [
    "vid = cv2.VideoCapture(0)\n",
    "while(True):\n",
    "      \n",
    "    # Read webcam frame\n",
    "    ret, frame = vid.read()\n",
    "    \n",
    "    # Convert the frame to grayscale and resize it\n",
    "    img = cv2.resize(cv2.cvtColor(frame, cv2.COLOR_BGR2GRAY), (200,200), interpolation=cv2.INTER_AREA)\n",
    "    \n",
    "    # Create a copy of the image to draw bounding boxes on\n",
    "    cimg = img.copy()\n",
    "    \n",
    "    # Set the size of the kernel used for scanning the image\n",
    "    k_size = 80\n",
    "    \n",
    "    # Loop through the image using the kernel with some overlap\n",
    "    for i in range(0,img.shape[0]-k_size+1, k_size//2):\n",
    "        for j in range(0,img.shape[1]-k_size+1, k_size//2):\n",
    "            \n",
    "            # Check if the current sub-image matches the object being searched for\n",
    "            if(check_img(cv2.resize(cv2.equalizeHist(img[i:i+k_size, j:j+k_size]), (19,19), interpolation=cv2.INTER_AREA) )):\n",
    "                \n",
    "                # If the sub-image matches, draw a bounding box on the copy of the image\n",
    "                cv2.rectangle(cimg, (j,i), (j+k_size, i+k_size), 255, 2)\n",
    "    \n",
    "    # Display the image with the bounding boxes\n",
    "    cv2.imshow('frame', cimg)\n",
    "    \n",
    "    cv2.waitKey(1)\n",
    "    \n",
    "# After the loop release the cap object\n",
    "vid.release()\n",
    "\n",
    "# Destroy all the windows\n",
    "cv2.destroyAllWindows()"
   ]
  },
  {
   "cell_type": "markdown",
   "id": "006e3350-3958-43a4-81a1-7d68c0364266",
   "metadata": {},
   "source": [
    "## Test Performance\n",
    "We will now evaluate"
   ]
  },
  {
   "cell_type": "code",
   "execution_count": 18,
   "id": "9ac3c18d-e141-49be-8cfd-6677b9877f5e",
   "metadata": {
    "tags": []
   },
   "outputs": [
    {
     "name": "stderr",
     "output_type": "stream",
     "text": [
      "2023-04-30 00:02:07.090 Python[61400:4464187] ApplePersistenceIgnoreState: Existing state will not be touched. New state will be written to /var/folders/17/kf9r_zz559j0trllxywmgmq00000gn/T/org.python.python.savedState\n"
     ]
    },
    {
     "ename": "KeyboardInterrupt",
     "evalue": "",
     "output_type": "error",
     "traceback": [
      "\u001b[0;31m---------------------------------------------------------------------------\u001b[0m",
      "\u001b[0;31mKeyboardInterrupt\u001b[0m                         Traceback (most recent call last)",
      "Cell \u001b[0;32mIn[18], line 11\u001b[0m\n\u001b[1;32m      9\u001b[0m kimg \u001b[38;5;241m=\u001b[39m cv2\u001b[38;5;241m.\u001b[39mrectangle(cimg\u001b[38;5;241m.\u001b[39mcopy(), (j,i), (j\u001b[38;5;241m+\u001b[39mk_size, i\u001b[38;5;241m+\u001b[39mk_size), \u001b[38;5;241m255\u001b[39m, \u001b[38;5;241m2\u001b[39m)\n\u001b[1;32m     10\u001b[0m \u001b[38;5;66;03m# Check if the current sub-image matches the object being searched for\u001b[39;00m\n\u001b[0;32m---> 11\u001b[0m \u001b[38;5;28;01mif\u001b[39;00m(\u001b[43mcheck_img\u001b[49m\u001b[43m(\u001b[49m\u001b[43mcv2\u001b[49m\u001b[38;5;241;43m.\u001b[39;49m\u001b[43mresize\u001b[49m\u001b[43m(\u001b[49m\u001b[43mimg\u001b[49m\u001b[43m[\u001b[49m\u001b[43mi\u001b[49m\u001b[43m:\u001b[49m\u001b[43mi\u001b[49m\u001b[38;5;241;43m+\u001b[39;49m\u001b[43mk_size\u001b[49m\u001b[43m,\u001b[49m\u001b[43m \u001b[49m\u001b[43mj\u001b[49m\u001b[43m:\u001b[49m\u001b[43mj\u001b[49m\u001b[38;5;241;43m+\u001b[39;49m\u001b[43mk_size\u001b[49m\u001b[43m]\u001b[49m\u001b[43m,\u001b[49m\u001b[43m \u001b[49m\u001b[43m(\u001b[49m\u001b[38;5;241;43m19\u001b[39;49m\u001b[43m,\u001b[49m\u001b[38;5;241;43m19\u001b[39;49m\u001b[43m)\u001b[49m\u001b[43m,\u001b[49m\u001b[43m \u001b[49m\u001b[43minterpolation\u001b[49m\u001b[38;5;241;43m=\u001b[39;49m\u001b[43mcv2\u001b[49m\u001b[38;5;241;43m.\u001b[39;49m\u001b[43mINTER_AREA\u001b[49m\u001b[43m)\u001b[49m\u001b[43m)\u001b[49m ):\n\u001b[1;32m     12\u001b[0m \n\u001b[1;32m     13\u001b[0m     \u001b[38;5;66;03m# If the sub-image matches, draw a bounding box on the copy of the image\u001b[39;00m\n\u001b[1;32m     14\u001b[0m     cv2\u001b[38;5;241m.\u001b[39mrectangle(cimg, (j,i), (j\u001b[38;5;241m+\u001b[39mk_size, i\u001b[38;5;241m+\u001b[39mk_size), \u001b[38;5;241m255\u001b[39m, \u001b[38;5;241m2\u001b[39m)\n\u001b[1;32m     15\u001b[0m cv2\u001b[38;5;241m.\u001b[39mimshow(\u001b[38;5;124m\"\u001b[39m\u001b[38;5;124mcimg\u001b[39m\u001b[38;5;124m\"\u001b[39m,kimg)\n",
      "Cell \u001b[0;32mIn[17], line 21\u001b[0m, in \u001b[0;36mcheck_img\u001b[0;34m(img)\u001b[0m\n\u001b[1;32m     19\u001b[0m         t_filt \u001b[38;5;241m=\u001b[39m cascade_filter_prefix[i\u001b[38;5;241m+\u001b[39m\u001b[38;5;241m1\u001b[39m]\n\u001b[1;32m     20\u001b[0m     \u001b[38;5;66;03m# Check if the image passes the current stage of the cascade model\u001b[39;00m\n\u001b[0;32m---> 21\u001b[0m     \u001b[38;5;28;01mif\u001b[39;00m \u001b[38;5;129;01mnot\u001b[39;00m(\u001b[43mcascade_models\u001b[49m\u001b[43m[\u001b[49m\u001b[43mi\u001b[49m\u001b[43m]\u001b[49m\u001b[43m(\u001b[49m\u001b[43m[\u001b[49m\u001b[43mfeature_x\u001b[49m\u001b[43m]\u001b[49m\u001b[43m)\u001b[49m):\n\u001b[1;32m     22\u001b[0m         \u001b[38;5;28;01mreturn\u001b[39;00m \u001b[38;5;28;01mFalse\u001b[39;00m\n\u001b[1;32m     23\u001b[0m \u001b[38;5;66;03m# If the image passes all stages, return True\u001b[39;00m\n",
      "Cell \u001b[0;32mIn[10], line 79\u001b[0m, in \u001b[0;36mAdaboost.<locals>.model\u001b[0;34m(x)\u001b[0m\n\u001b[1;32m     78\u001b[0m \u001b[38;5;28;01mdef\u001b[39;00m \u001b[38;5;21mmodel\u001b[39m(x):\n\u001b[0;32m---> 79\u001b[0m     preds \u001b[38;5;241m=\u001b[39m np\u001b[38;5;241m.\u001b[39msum( np\u001b[38;5;241m.\u001b[39marray([c\u001b[38;5;241m.\u001b[39mpredict(select_features(x, f_sel)) \u001b[38;5;28;01mfor\u001b[39;00m c, f_sel \u001b[38;5;129;01min\u001b[39;00m \u001b[38;5;28mzip\u001b[39m(classifiers, feature_sel)]) \u001b[38;5;241m*\u001b[39m alpha\u001b[38;5;241m.\u001b[39mreshape(\u001b[38;5;241m-\u001b[39m\u001b[38;5;241m1\u001b[39m,\u001b[38;5;241m1\u001b[39m), axis\u001b[38;5;241m=\u001b[39m\u001b[38;5;241m0\u001b[39m)\n\u001b[1;32m     80\u001b[0m     \u001b[38;5;28;01mreturn\u001b[39;00m preds \u001b[38;5;241m>\u001b[39m\u001b[38;5;241m=\u001b[39m model_threshold\n",
      "Cell \u001b[0;32mIn[10], line 79\u001b[0m, in \u001b[0;36m<listcomp>\u001b[0;34m(.0)\u001b[0m\n\u001b[1;32m     78\u001b[0m \u001b[38;5;28;01mdef\u001b[39;00m \u001b[38;5;21mmodel\u001b[39m(x):\n\u001b[0;32m---> 79\u001b[0m     preds \u001b[38;5;241m=\u001b[39m np\u001b[38;5;241m.\u001b[39msum( np\u001b[38;5;241m.\u001b[39marray([\u001b[43mc\u001b[49m\u001b[38;5;241;43m.\u001b[39;49m\u001b[43mpredict\u001b[49m\u001b[43m(\u001b[49m\u001b[43mselect_features\u001b[49m\u001b[43m(\u001b[49m\u001b[43mx\u001b[49m\u001b[43m,\u001b[49m\u001b[43m \u001b[49m\u001b[43mf_sel\u001b[49m\u001b[43m)\u001b[49m\u001b[43m)\u001b[49m \u001b[38;5;28;01mfor\u001b[39;00m c, f_sel \u001b[38;5;129;01min\u001b[39;00m \u001b[38;5;28mzip\u001b[39m(classifiers, feature_sel)]) \u001b[38;5;241m*\u001b[39m alpha\u001b[38;5;241m.\u001b[39mreshape(\u001b[38;5;241m-\u001b[39m\u001b[38;5;241m1\u001b[39m,\u001b[38;5;241m1\u001b[39m), axis\u001b[38;5;241m=\u001b[39m\u001b[38;5;241m0\u001b[39m)\n\u001b[1;32m     80\u001b[0m     \u001b[38;5;28;01mreturn\u001b[39;00m preds \u001b[38;5;241m>\u001b[39m\u001b[38;5;241m=\u001b[39m model_threshold\n",
      "File \u001b[0;32m~/ee769/Project/.venv/lib/python3.10/site-packages/sklearn/linear_model/_ridge.py:1212\u001b[0m, in \u001b[0;36m_RidgeClassifierMixin.predict\u001b[0;34m(self, X)\u001b[0m\n\u001b[1;32m   1210\u001b[0m     scores \u001b[38;5;241m=\u001b[39m \u001b[38;5;241m2\u001b[39m \u001b[38;5;241m*\u001b[39m (\u001b[38;5;28mself\u001b[39m\u001b[38;5;241m.\u001b[39mdecision_function(X) \u001b[38;5;241m>\u001b[39m \u001b[38;5;241m0\u001b[39m) \u001b[38;5;241m-\u001b[39m \u001b[38;5;241m1\u001b[39m\n\u001b[1;32m   1211\u001b[0m     \u001b[38;5;28;01mreturn\u001b[39;00m \u001b[38;5;28mself\u001b[39m\u001b[38;5;241m.\u001b[39m_label_binarizer\u001b[38;5;241m.\u001b[39minverse_transform(scores)\n\u001b[0;32m-> 1212\u001b[0m \u001b[38;5;28;01mreturn\u001b[39;00m \u001b[38;5;28;43msuper\u001b[39;49m\u001b[43m(\u001b[49m\u001b[43m)\u001b[49m\u001b[38;5;241;43m.\u001b[39;49m\u001b[43mpredict\u001b[49m\u001b[43m(\u001b[49m\u001b[43mX\u001b[49m\u001b[43m)\u001b[49m\n",
      "File \u001b[0;32m~/ee769/Project/.venv/lib/python3.10/site-packages/sklearn/linear_model/_base.py:419\u001b[0m, in \u001b[0;36mLinearClassifierMixin.predict\u001b[0;34m(self, X)\u001b[0m\n\u001b[1;32m    405\u001b[0m \u001b[38;5;250m\u001b[39m\u001b[38;5;124;03m\"\"\"\u001b[39;00m\n\u001b[1;32m    406\u001b[0m \u001b[38;5;124;03mPredict class labels for samples in X.\u001b[39;00m\n\u001b[1;32m    407\u001b[0m \n\u001b[0;32m   (...)\u001b[0m\n\u001b[1;32m    416\u001b[0m \u001b[38;5;124;03m    Vector containing the class labels for each sample.\u001b[39;00m\n\u001b[1;32m    417\u001b[0m \u001b[38;5;124;03m\"\"\"\u001b[39;00m\n\u001b[1;32m    418\u001b[0m xp, _ \u001b[38;5;241m=\u001b[39m get_namespace(X)\n\u001b[0;32m--> 419\u001b[0m scores \u001b[38;5;241m=\u001b[39m \u001b[38;5;28;43mself\u001b[39;49m\u001b[38;5;241;43m.\u001b[39;49m\u001b[43mdecision_function\u001b[49m\u001b[43m(\u001b[49m\u001b[43mX\u001b[49m\u001b[43m)\u001b[49m\n\u001b[1;32m    420\u001b[0m \u001b[38;5;28;01mif\u001b[39;00m \u001b[38;5;28mlen\u001b[39m(scores\u001b[38;5;241m.\u001b[39mshape) \u001b[38;5;241m==\u001b[39m \u001b[38;5;241m1\u001b[39m:\n\u001b[1;32m    421\u001b[0m     indices \u001b[38;5;241m=\u001b[39m xp\u001b[38;5;241m.\u001b[39mastype(scores \u001b[38;5;241m>\u001b[39m \u001b[38;5;241m0\u001b[39m, \u001b[38;5;28mint\u001b[39m)\n",
      "File \u001b[0;32m~/ee769/Project/.venv/lib/python3.10/site-packages/sklearn/linear_model/_base.py:401\u001b[0m, in \u001b[0;36mLinearClassifierMixin.decision_function\u001b[0;34m(self, X)\u001b[0m\n\u001b[1;32m    398\u001b[0m xp, _ \u001b[38;5;241m=\u001b[39m get_namespace(X)\n\u001b[1;32m    400\u001b[0m X \u001b[38;5;241m=\u001b[39m \u001b[38;5;28mself\u001b[39m\u001b[38;5;241m.\u001b[39m_validate_data(X, accept_sparse\u001b[38;5;241m=\u001b[39m\u001b[38;5;124m\"\u001b[39m\u001b[38;5;124mcsr\u001b[39m\u001b[38;5;124m\"\u001b[39m, reset\u001b[38;5;241m=\u001b[39m\u001b[38;5;28;01mFalse\u001b[39;00m)\n\u001b[0;32m--> 401\u001b[0m scores \u001b[38;5;241m=\u001b[39m \u001b[43msafe_sparse_dot\u001b[49m\u001b[43m(\u001b[49m\u001b[43mX\u001b[49m\u001b[43m,\u001b[49m\u001b[43m \u001b[49m\u001b[38;5;28;43mself\u001b[39;49m\u001b[38;5;241;43m.\u001b[39;49m\u001b[43mcoef_\u001b[49m\u001b[38;5;241;43m.\u001b[39;49m\u001b[43mT\u001b[49m\u001b[43m,\u001b[49m\u001b[43m \u001b[49m\u001b[43mdense_output\u001b[49m\u001b[38;5;241;43m=\u001b[39;49m\u001b[38;5;28;43;01mTrue\u001b[39;49;00m\u001b[43m)\u001b[49m \u001b[38;5;241m+\u001b[39m \u001b[38;5;28mself\u001b[39m\u001b[38;5;241m.\u001b[39mintercept_\n\u001b[1;32m    402\u001b[0m \u001b[38;5;28;01mreturn\u001b[39;00m xp\u001b[38;5;241m.\u001b[39mreshape(scores, \u001b[38;5;241m-\u001b[39m\u001b[38;5;241m1\u001b[39m) \u001b[38;5;28;01mif\u001b[39;00m scores\u001b[38;5;241m.\u001b[39mshape[\u001b[38;5;241m1\u001b[39m] \u001b[38;5;241m==\u001b[39m \u001b[38;5;241m1\u001b[39m \u001b[38;5;28;01melse\u001b[39;00m scores\n",
      "File \u001b[0;32m~/ee769/Project/.venv/lib/python3.10/site-packages/sklearn/utils/extmath.py:192\u001b[0m, in \u001b[0;36msafe_sparse_dot\u001b[0;34m(a, b, dense_output)\u001b[0m\n\u001b[1;32m    188\u001b[0m \u001b[38;5;28;01melse\u001b[39;00m:\n\u001b[1;32m    189\u001b[0m     ret \u001b[38;5;241m=\u001b[39m a \u001b[38;5;241m@\u001b[39m b\n\u001b[1;32m    191\u001b[0m \u001b[38;5;28;01mif\u001b[39;00m (\n\u001b[0;32m--> 192\u001b[0m     \u001b[43msparse\u001b[49m\u001b[38;5;241;43m.\u001b[39;49m\u001b[43missparse\u001b[49m\u001b[43m(\u001b[49m\u001b[43ma\u001b[49m\u001b[43m)\u001b[49m\n\u001b[1;32m    193\u001b[0m     \u001b[38;5;129;01mand\u001b[39;00m sparse\u001b[38;5;241m.\u001b[39missparse(b)\n\u001b[1;32m    194\u001b[0m     \u001b[38;5;129;01mand\u001b[39;00m dense_output\n\u001b[1;32m    195\u001b[0m     \u001b[38;5;129;01mand\u001b[39;00m \u001b[38;5;28mhasattr\u001b[39m(ret, \u001b[38;5;124m\"\u001b[39m\u001b[38;5;124mtoarray\u001b[39m\u001b[38;5;124m\"\u001b[39m)\n\u001b[1;32m    196\u001b[0m ):\n\u001b[1;32m    197\u001b[0m     \u001b[38;5;28;01mreturn\u001b[39;00m ret\u001b[38;5;241m.\u001b[39mtoarray()\n\u001b[1;32m    198\u001b[0m \u001b[38;5;28;01mreturn\u001b[39;00m ret\n",
      "File \u001b[0;32m~/ee769/Project/.venv/lib/python3.10/site-packages/scipy/sparse/_base.py:1301\u001b[0m, in \u001b[0;36misspmatrix\u001b[0;34m(x)\u001b[0m\n\u001b[1;32m   1297\u001b[0m         \u001b[38;5;28;01melse\u001b[39;00m:\n\u001b[1;32m   1298\u001b[0m             \u001b[38;5;28;01mreturn\u001b[39;00m np\u001b[38;5;241m.\u001b[39mzeros(\u001b[38;5;28mself\u001b[39m\u001b[38;5;241m.\u001b[39mshape, dtype\u001b[38;5;241m=\u001b[39m\u001b[38;5;28mself\u001b[39m\u001b[38;5;241m.\u001b[39mdtype, order\u001b[38;5;241m=\u001b[39morder)\n\u001b[0;32m-> 1301\u001b[0m \u001b[38;5;28;01mdef\u001b[39;00m \u001b[38;5;21misspmatrix\u001b[39m(x):\n\u001b[1;32m   1302\u001b[0m \u001b[38;5;250m    \u001b[39m\u001b[38;5;124;03m\"\"\"Is x of a sparse matrix type?\u001b[39;00m\n\u001b[1;32m   1303\u001b[0m \n\u001b[1;32m   1304\u001b[0m \u001b[38;5;124;03m    Parameters\u001b[39;00m\n\u001b[0;32m   (...)\u001b[0m\n\u001b[1;32m   1326\u001b[0m \u001b[38;5;124;03m    False\u001b[39;00m\n\u001b[1;32m   1327\u001b[0m \u001b[38;5;124;03m    \"\"\"\u001b[39;00m\n\u001b[1;32m   1328\u001b[0m     \u001b[38;5;28;01mreturn\u001b[39;00m \u001b[38;5;28misinstance\u001b[39m(x, spmatrix)\n",
      "\u001b[0;31mKeyboardInterrupt\u001b[0m: "
     ]
    }
   ],
   "source": [
    "frame = cv2.imread(\"test_2.jpeg\")\n",
    "img = cv2.cvtColor(frame, cv2.COLOR_BGR2GRAY)\n",
    "cimg = img.copy()\n",
    "\n",
    "k_size = 66\n",
    "# Loop through the image using the kernel with some overlap\n",
    "for i in range(0,img.shape[0]-k_size+1, k_size//2):\n",
    "    for j in range(0,img.shape[1]-k_size+1, k_size//2):\n",
    "        kimg = cv2.rectangle(cimg.copy(), (j,i), (j+k_size, i+k_size), 255, 2)\n",
    "        # Check if the current sub-image matches the object being searched for\n",
    "        if(check_img(cv2.resize(img[i:i+k_size, j:j+k_size], (19,19), interpolation=cv2.INTER_AREA)) ):\n",
    "\n",
    "            # If the sub-image matches, draw a bounding box on the copy of the image\n",
    "            cv2.rectangle(cimg, (j,i), (j+k_size, i+k_size), 255, 2)\n",
    "        cv2.imshow(\"cimg\",kimg)\n",
    "        cv2.waitKey(1)\n",
    "cv2.imshow(\"cimg\",cimg)\n",
    "cv2.waitKey(0)"
   ]
  },
  {
   "cell_type": "markdown",
   "id": "30e9dd89-895f-4dec-9e5b-20e8815faa04",
   "metadata": {
    "tags": []
   },
   "source": [
    "## References\n",
    "1. https://docs.opencv.org/3.4/d2/d99/tutorial_js_face_detection.html\n",
    "2. P. Viola and M. Jones, \"Rapid object detection using a boosted cascade of simple features,\" Proceedings of the 2001 IEEE Computer Society Conference on Computer Vision and Pattern Recognition. CVPR 2001, Kauai, HI, USA, 2001, pp. I-I, doi: 10.1109/CVPR.2001.990517.\n",
    "3. https://towardsdatascience.com/face-detection-with-haar-cascade-727f68dafd08\n",
    "\n"
   ]
  }
 ],
 "metadata": {
  "kernelspec": {
   "display_name": "Python 3 (ipykernel)",
   "language": "python",
   "name": "python3"
  },
  "language_info": {
   "codemirror_mode": {
    "name": "ipython",
    "version": 3
   },
   "file_extension": ".py",
   "mimetype": "text/x-python",
   "name": "python",
   "nbconvert_exporter": "python",
   "pygments_lexer": "ipython3",
   "version": "3.10.6"
  }
 },
 "nbformat": 4,
 "nbformat_minor": 5
}
